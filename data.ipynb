{
 "cells": [
  {
   "cell_type": "code",
   "execution_count": 1,
   "metadata": {},
   "outputs": [
    {
     "name": "stdout",
     "output_type": "stream",
     "text": [
      "9773\n"
     ]
    }
   ],
   "source": [
    "import json\n",
    "\n",
    "with open('data/raw_data_messages.jsonl', 'r', encoding='utf-8-sig') as f:\n",
    "    data = [json.loads(line) for line in f if line.strip()]\n",
    "\n",
    "print(len(data))\n",
    "\n"
   ]
  },
  {
   "cell_type": "code",
   "execution_count": null,
   "metadata": {},
   "outputs": [],
   "source": [
    "import json\n",
    "\n",
    "with open('data/raw_data_messages.jsonl', 'r', encoding='utf-8-sig') as f:\n",
    "    data = [json.loads(line) for line in f if line.strip()]\n",
    "\n",
    "print(len(data))\n",
    "print(data[3:])  # 처음 몇 개만 보기\n"
   ]
  },
  {
   "cell_type": "code",
   "execution_count": 3,
   "metadata": {},
   "outputs": [],
   "source": [
    "import pandas as pd \n",
    "data = pd.read_csv(\"see_out - see_out.csv\")"
   ]
  },
  {
   "cell_type": "code",
   "execution_count": 4,
   "metadata": {},
   "outputs": [
    {
     "data": {
      "text/html": [
       "<div>\n",
       "<style scoped>\n",
       "    .dataframe tbody tr th:only-of-type {\n",
       "        vertical-align: middle;\n",
       "    }\n",
       "\n",
       "    .dataframe tbody tr th {\n",
       "        vertical-align: top;\n",
       "    }\n",
       "\n",
       "    .dataframe thead th {\n",
       "        text-align: right;\n",
       "    }\n",
       "</style>\n",
       "<table border=\"1\" class=\"dataframe\">\n",
       "  <thead>\n",
       "    <tr style=\"text-align: right;\">\n",
       "      <th></th>\n",
       "      <th>source_id</th>\n",
       "      <th>file_id</th>\n",
       "      <th>task_category</th>\n",
       "      <th>instruction</th>\n",
       "      <th>object_key</th>\n",
       "      <th>object</th>\n",
       "      <th>short answer</th>\n",
       "      <th>output</th>\n",
       "    </tr>\n",
       "  </thead>\n",
       "  <tbody>\n",
       "    <tr>\n",
       "      <th>0</th>\n",
       "      <td>200001</td>\n",
       "      <td>03_질의응답_200001_1</td>\n",
       "      <td>의문사형</td>\n",
       "      <td>고객은 무엇을 요구하고 있지?</td>\n",
       "      <td>무엇</td>\n",
       "      <td>what</td>\n",
       "      <td>NaN</td>\n",
       "      <td>정지 카드 해제</td>\n",
       "    </tr>\n",
       "    <tr>\n",
       "      <th>1</th>\n",
       "      <td>200001</td>\n",
       "      <td>03_질의응답_200001_2</td>\n",
       "      <td>의문사형</td>\n",
       "      <td>고객은 왜 핸드폰 문자 인증을 하기 어렵다고 했니?</td>\n",
       "      <td>NaN</td>\n",
       "      <td>NaN</td>\n",
       "      <td>NaN</td>\n",
       "      <td>지금은 한국 핸드폰 유심칩을 쓰기 어렵기 때문이야.</td>\n",
       "    </tr>\n",
       "    <tr>\n",
       "      <th>2</th>\n",
       "      <td>200001</td>\n",
       "      <td>03_질의응답_200001_3</td>\n",
       "      <td>예/아니요형</td>\n",
       "      <td>고객의 카드 정지 해제 요청은 해결되었니?</td>\n",
       "      <td>NaN</td>\n",
       "      <td>NaN</td>\n",
       "      <td>1.0</td>\n",
       "      <td>응.</td>\n",
       "    </tr>\n",
       "    <tr>\n",
       "      <th>3</th>\n",
       "      <td>200002</td>\n",
       "      <td>03_질의응답_200002_1</td>\n",
       "      <td>의문사형</td>\n",
       "      <td>고객이 마지막으로 카드를 사용한 장소는 어디야?</td>\n",
       "      <td>어디,장소</td>\n",
       "      <td>where</td>\n",
       "      <td>1.0</td>\n",
       "      <td>다이소 아성산업</td>\n",
       "    </tr>\n",
       "    <tr>\n",
       "      <th>4</th>\n",
       "      <td>200002</td>\n",
       "      <td>03_질의응답_200002_2</td>\n",
       "      <td>예/아니요형</td>\n",
       "      <td>고객은 카드 재발급도 요청했어?</td>\n",
       "      <td>NaN</td>\n",
       "      <td>NaN</td>\n",
       "      <td>1.0</td>\n",
       "      <td>아니.</td>\n",
       "    </tr>\n",
       "  </tbody>\n",
       "</table>\n",
       "</div>"
      ],
      "text/plain": [
       "   source_id           file_id task_category                   instruction  \\\n",
       "0     200001  03_질의응답_200001_1          의문사형              고객은 무엇을 요구하고 있지?   \n",
       "1     200001  03_질의응답_200001_2          의문사형  고객은 왜 핸드폰 문자 인증을 하기 어렵다고 했니?   \n",
       "2     200001  03_질의응답_200001_3        예/아니요형       고객의 카드 정지 해제 요청은 해결되었니?   \n",
       "3     200002  03_질의응답_200002_1          의문사형    고객이 마지막으로 카드를 사용한 장소는 어디야?   \n",
       "4     200002  03_질의응답_200002_2        예/아니요형             고객은 카드 재발급도 요청했어?   \n",
       "\n",
       "  object_key object  short answer                        output  \n",
       "0         무엇   what           NaN                      정지 카드 해제  \n",
       "1        NaN    NaN           NaN  지금은 한국 핸드폰 유심칩을 쓰기 어렵기 때문이야.  \n",
       "2        NaN    NaN           1.0                            응.  \n",
       "3      어디,장소  where           1.0                      다이소 아성산업  \n",
       "4        NaN    NaN           1.0                           아니.  "
      ]
     },
     "execution_count": 4,
     "metadata": {},
     "output_type": "execute_result"
    }
   ],
   "source": [
    "import pandas as pd \n",
    "data = pd.read_csv(\"see_out - see_out.csv\")\n",
    "\n",
    "data.head(5)"
   ]
  },
  {
   "cell_type": "code",
   "execution_count": null,
   "metadata": {},
   "outputs": [],
   "source": []
  }
 ],
 "metadata": {
  "kernelspec": {
   "display_name": "pro2",
   "language": "python",
   "name": "python3"
  },
  "language_info": {
   "codemirror_mode": {
    "name": "ipython",
    "version": 3
   },
   "file_extension": ".py",
   "mimetype": "text/x-python",
   "name": "python",
   "nbconvert_exporter": "python",
   "pygments_lexer": "ipython3",
   "version": "3.11.14"
  }
 },
 "nbformat": 4,
 "nbformat_minor": 2
}
